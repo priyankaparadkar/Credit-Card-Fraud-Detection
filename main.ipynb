---

### **Credit Card Fraud Detection using Machine Learning**

---

```python
# Importing the Dependencies
import numpy as np
import pandas as pd
from sklearn.model_selection import train_test_split
from sklearn.linear_model import LogisticRegression
from sklearn.tree import DecisionTreeClassifier
from sklearn.metrics import accuracy_score
from sklearn import metrics
```

---

```python
# Loading the Dataset
credit_card_data = pd.read_csv('creditcard.csv')
```

---

```python
# Displaying the first 5 rows
credit_card_data.head()
```

---

```python
# Dataset Information
credit_card_data.info()
```

---

```python
# Checking for missing values
credit_card_data.isnull().sum()
```

---

```python
# Distribution of Legit vs Fraudulent Transactions
credit_card_data['Class'].value_counts()

# 0 --> Normal Transaction
# 1 --> Fraudulent Transaction
```

---

```python
# Separating Legit and Fraudulent Transactions
legit = credit_card_data[credit_card_data.Class == 0]
fraud = credit_card_data[credit_card_data.Class == 1]

print("Legit Shape:", legit.shape)
print("Fraud Shape:", fraud.shape)
```

---

```python
# Statistical Summary - Legit Transactions
legit.Amount.describe()
```

---

```python
# Statistical Summary - Fraud Transactions
fraud.Amount.describe()
```

---

```python
# Mean comparison by Class
credit_card_data.groupby('Class').mean()
```

---

### Undersampling

To balance the dataset, we'll select the same number of legit transactions as fraudulent ones.

```python
# Selecting equal number of legit transactions
legit_sample = legit.sample(n=492)

# Merging the legit and fraud samples
new_dataset = pd.concat([legit_sample, fraud], axis=0)
```

---

```python
# Balanced Dataset Overview
new_dataset['Class'].value_counts()
new_dataset.groupby('Class').mean()
```

---

### Splitting Features and Target

```python
# Features and Labels
X = new_dataset.drop(columns='Class', axis=1)
Y = new_dataset['Class']

print("Features shape:", X.shape)
print("Labels shape:", Y.shape)
```

---

```python
# Splitting into Train and Test Sets
X_train, X_test, Y_train, Y_test = train_test_split(X, Y, test_size=0.2, stratify=Y, random_state=2)

print("Train Set Shape:", X_train.shape)
print("Test Set Shape:", X_test.shape)
```

---

### Model 1: Logistic Regression

```python
# Training Logistic Regression Model
lr_model = LogisticRegression()
lr_model.fit(X_train, Y_train)
```

---

```python
# Accuracy on Training Set
train_preds = lr_model.predict(X_train)
train_accuracy = accuracy_score(Y_train, train_preds)
print("Training Accuracy:", train_accuracy)
```

---

```python
# Accuracy on Test Set
test_preds = lr_model.predict(X_test)
test_accuracy = accuracy_score(Y_test, test_preds)
print("Test Accuracy:", test_accuracy)
```

---

### Model 2: Decision Tree Classifier

```python
# Training Decision Tree Classifier
dt_model = DecisionTreeClassifier()
dt_model.fit(X_train, Y_train)

# Predicting
dt_preds = dt_model.predict(X_test)

# Accuracy
print("Decision Tree Accuracy:", metrics.accuracy_score(Y_test, dt_preds))
```

---
